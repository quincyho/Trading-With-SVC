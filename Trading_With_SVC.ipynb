{
  "nbformat": 4,
  "nbformat_minor": 0,
  "metadata": {
    "colab": {
      "name": "Stock_Prediction_With_SVC.ipynb",
      "provenance": [],
      "collapsed_sections": [
        "lkeD4oJ_u983",
        "nLK9sOiewtQZ"
      ]
    },
    "kernelspec": {
      "name": "python3",
      "display_name": "Python 3"
    },
    "language_info": {
      "name": "python"
    }
  },
  "cells": [
    {
      "cell_type": "markdown",
      "metadata": {
        "id": "lkeD4oJ_u983"
      },
      "source": [
        "### Install and Load Libraries"
      ]
    },
    {
      "cell_type": "code",
      "metadata": {
        "colab": {
          "base_uri": "https://localhost:8080/"
        },
        "id": "I7SbURT7laYp",
        "outputId": "8a7ff1d4-6fb9-4f9c-9c18-ecc9e6ad44cc"
      },
      "source": [
        "# Install yfinance\n",
        "!pip install yfinance"
      ],
      "execution_count": 1,
      "outputs": [
        {
          "output_type": "stream",
          "text": [
            "Collecting yfinance\n",
            "  Downloading yfinance-0.1.63.tar.gz (26 kB)\n",
            "Requirement already satisfied: pandas>=0.24 in /usr/local/lib/python3.7/dist-packages (from yfinance) (1.1.5)\n",
            "Requirement already satisfied: numpy>=1.15 in /usr/local/lib/python3.7/dist-packages (from yfinance) (1.19.5)\n",
            "Requirement already satisfied: requests>=2.20 in /usr/local/lib/python3.7/dist-packages (from yfinance) (2.23.0)\n",
            "Requirement already satisfied: multitasking>=0.0.7 in /usr/local/lib/python3.7/dist-packages (from yfinance) (0.0.9)\n",
            "Collecting lxml>=4.5.1\n",
            "  Downloading lxml-4.6.3-cp37-cp37m-manylinux2014_x86_64.whl (6.3 MB)\n",
            "\u001b[K     |████████████████████████████████| 6.3 MB 5.0 MB/s \n",
            "\u001b[?25hRequirement already satisfied: pytz>=2017.2 in /usr/local/lib/python3.7/dist-packages (from pandas>=0.24->yfinance) (2018.9)\n",
            "Requirement already satisfied: python-dateutil>=2.7.3 in /usr/local/lib/python3.7/dist-packages (from pandas>=0.24->yfinance) (2.8.1)\n",
            "Requirement already satisfied: six>=1.5 in /usr/local/lib/python3.7/dist-packages (from python-dateutil>=2.7.3->pandas>=0.24->yfinance) (1.15.0)\n",
            "Requirement already satisfied: certifi>=2017.4.17 in /usr/local/lib/python3.7/dist-packages (from requests>=2.20->yfinance) (2021.5.30)\n",
            "Requirement already satisfied: idna<3,>=2.5 in /usr/local/lib/python3.7/dist-packages (from requests>=2.20->yfinance) (2.10)\n",
            "Requirement already satisfied: chardet<4,>=3.0.2 in /usr/local/lib/python3.7/dist-packages (from requests>=2.20->yfinance) (3.0.4)\n",
            "Requirement already satisfied: urllib3!=1.25.0,!=1.25.1,<1.26,>=1.21.1 in /usr/local/lib/python3.7/dist-packages (from requests>=2.20->yfinance) (1.24.3)\n",
            "Building wheels for collected packages: yfinance\n",
            "  Building wheel for yfinance (setup.py) ... \u001b[?25l\u001b[?25hdone\n",
            "  Created wheel for yfinance: filename=yfinance-0.1.63-py2.py3-none-any.whl size=23919 sha256=dab25c4c3b3b2219369e6f5a58daa13af02a44111135c97b398d18da15534d9d\n",
            "  Stored in directory: /root/.cache/pip/wheels/fe/87/8b/7ec24486e001d3926537f5f7801f57a74d181be25b11157983\n",
            "Successfully built yfinance\n",
            "Installing collected packages: lxml, yfinance\n",
            "  Attempting uninstall: lxml\n",
            "    Found existing installation: lxml 4.2.6\n",
            "    Uninstalling lxml-4.2.6:\n",
            "      Successfully uninstalled lxml-4.2.6\n",
            "Successfully installed lxml-4.6.3 yfinance-0.1.63\n"
          ],
          "name": "stdout"
        }
      ]
    },
    {
      "cell_type": "code",
      "metadata": {
        "colab": {
          "base_uri": "https://localhost:8080/"
        },
        "id": "bg6Abw4n7zAz",
        "outputId": "2ad62b4a-7a42-421a-ffb5-31639a9d8c8b"
      },
      "source": [
        "# Install talib\n",
        "url = 'https://anaconda.org/conda-forge/libta-lib/0.4.0/download/linux-64/libta-lib-0.4.0-h516909a_0.tar.bz2'\n",
        "!curl -L $url | tar xj -C /usr/lib/x86_64-linux-gnu/ lib --strip-components=1\n",
        "url = 'https://anaconda.org/conda-forge/ta-lib/0.4.19/download/linux-64/ta-lib-0.4.19-py37ha21ca33_2.tar.bz2'\n",
        "!curl -L $url | tar xj -C /usr/local/lib/python3.7/dist-packages/ lib/python3.7/site-packages/talib --strip-components=3"
      ],
      "execution_count": 2,
      "outputs": [
        {
          "output_type": "stream",
          "text": [
            "  % Total    % Received % Xferd  Average Speed   Time    Time     Time  Current\n",
            "                                 Dload  Upload   Total   Spent    Left  Speed\n",
            "100  3769    0  3769    0     0   3329      0 --:--:--  0:00:01 --:--:--  3326\n",
            "100  503k  100  503k    0     0   176k      0  0:00:02  0:00:02 --:--:--  654k\n",
            "  % Total    % Received % Xferd  Average Speed   Time    Time     Time  Current\n",
            "                                 Dload  Upload   Total   Spent    Left  Speed\n",
            "100  3817    0  3817    0     0   2726      0 --:--:--  0:00:01 --:--:--  2724\n",
            "100  406k  100  406k    0     0   130k      0  0:00:03  0:00:03 --:--:--  442k\n"
          ],
          "name": "stdout"
        }
      ]
    },
    {
      "cell_type": "code",
      "metadata": {
        "id": "4wotRN_KlRuP"
      },
      "source": [
        "import yfinance as yf\n",
        "import pandas as pd\n",
        "import numpy as np\n",
        "import talib as ta\n",
        "import matplotlib.pyplot as plt"
      ],
      "execution_count": 218,
      "outputs": []
    },
    {
      "cell_type": "markdown",
      "metadata": {
        "id": "i6dFd70dvFss"
      },
      "source": [
        "### Import Data"
      ]
    },
    {
      "cell_type": "code",
      "metadata": {
        "id": "ERomhWoYlWtv"
      },
      "source": [
        "# Get meta data for stock VZ\n",
        "vz = yf.Ticker('VZ')"
      ],
      "execution_count": 219,
      "outputs": []
    },
    {
      "cell_type": "code",
      "metadata": {
        "id": "UJfwKPkrl1EV"
      },
      "source": [
        "# Get historic data from June 2021 to July 2021 with an 1-hour interval\n",
        "# Save data to dataframe\n",
        "df = vz.history(start='2021-06-01', end='2021-08-01', interval='1h')\n",
        "df.drop(['Dividends', 'Stock Splits'], axis=1, inplace=True)\n",
        "df.drop(df[df.Volume==0].index, inplace=True)"
      ],
      "execution_count": 220,
      "outputs": []
    },
    {
      "cell_type": "code",
      "metadata": {
        "colab": {
          "base_uri": "https://localhost:8080/",
          "height": 503
        },
        "id": "m60iWBBk40YG",
        "outputId": "67dbf053-50d5-4c57-aff0-51313ae4c9d0"
      },
      "source": [
        "df.head()"
      ],
      "execution_count": 296,
      "outputs": [
        {
          "output_type": "execute_result",
          "data": {
            "text/html": [
              "<div>\n",
              "<style scoped>\n",
              "    .dataframe tbody tr th:only-of-type {\n",
              "        vertical-align: middle;\n",
              "    }\n",
              "\n",
              "    .dataframe tbody tr th {\n",
              "        vertical-align: top;\n",
              "    }\n",
              "\n",
              "    .dataframe thead th {\n",
              "        text-align: right;\n",
              "    }\n",
              "</style>\n",
              "<table border=\"1\" class=\"dataframe\">\n",
              "  <thead>\n",
              "    <tr style=\"text-align: right;\">\n",
              "      <th></th>\n",
              "      <th>Open</th>\n",
              "      <th>High</th>\n",
              "      <th>Low</th>\n",
              "      <th>Close</th>\n",
              "      <th>Volume</th>\n",
              "      <th>RSI</th>\n",
              "      <th>SMA</th>\n",
              "      <th>Corr</th>\n",
              "      <th>SAR</th>\n",
              "      <th>ADX</th>\n",
              "      <th>Close_1H</th>\n",
              "      <th>High_1H</th>\n",
              "      <th>Low_1H</th>\n",
              "      <th>Open - Open_1H</th>\n",
              "      <th>Open - Close_1H</th>\n",
              "      <th>Return</th>\n",
              "      <th>Return_1H</th>\n",
              "      <th>Return_2H</th>\n",
              "      <th>Return_3H</th>\n",
              "      <th>Return_4H</th>\n",
              "      <th>Return_5H</th>\n",
              "      <th>Return_6H</th>\n",
              "      <th>Return_7H</th>\n",
              "      <th>Return_8H</th>\n",
              "      <th>Return_9H</th>\n",
              "      <th>Signal</th>\n",
              "      <th>Signal_Pred</th>\n",
              "      <th>Return_Pred</th>\n",
              "      <th>Cum_Return_Pred</th>\n",
              "      <th>Cum_Return</th>\n",
              "    </tr>\n",
              "  </thead>\n",
              "  <tbody>\n",
              "    <tr>\n",
              "      <th>2021-06-03 15:30:00-04:00</th>\n",
              "      <td>57.000000</td>\n",
              "      <td>57.064999</td>\n",
              "      <td>56.970001</td>\n",
              "      <td>56.980000</td>\n",
              "      <td>1368550</td>\n",
              "      <td>56.027166</td>\n",
              "      <td>56.885760</td>\n",
              "      <td>0.678514</td>\n",
              "      <td>56.939425</td>\n",
              "      <td>31.058790</td>\n",
              "      <td>57.000000</td>\n",
              "      <td>57.035000</td>\n",
              "      <td>56.959999</td>\n",
              "      <td>0.029999</td>\n",
              "      <td>0.000000</td>\n",
              "      <td>-0.001405</td>\n",
              "      <td>0.000526</td>\n",
              "      <td>-0.002104</td>\n",
              "      <td>0.000718</td>\n",
              "      <td>-0.002468</td>\n",
              "      <td>0.005259</td>\n",
              "      <td>0.002816</td>\n",
              "      <td>0.002740</td>\n",
              "      <td>-0.001064</td>\n",
              "      <td>-0.003085</td>\n",
              "      <td>-1</td>\n",
              "      <td>NaN</td>\n",
              "      <td>NaN</td>\n",
              "      <td>NaN</td>\n",
              "      <td>NaN</td>\n",
              "    </tr>\n",
              "    <tr>\n",
              "      <th>2021-06-04 09:30:00-04:00</th>\n",
              "      <td>56.919998</td>\n",
              "      <td>57.195000</td>\n",
              "      <td>56.900002</td>\n",
              "      <td>57.090000</td>\n",
              "      <td>2643686</td>\n",
              "      <td>54.978268</td>\n",
              "      <td>56.902760</td>\n",
              "      <td>0.652011</td>\n",
              "      <td>56.959999</td>\n",
              "      <td>32.219837</td>\n",
              "      <td>56.980000</td>\n",
              "      <td>57.064999</td>\n",
              "      <td>56.970001</td>\n",
              "      <td>-0.080002</td>\n",
              "      <td>-0.060001</td>\n",
              "      <td>0.002982</td>\n",
              "      <td>-0.001405</td>\n",
              "      <td>0.000526</td>\n",
              "      <td>-0.002104</td>\n",
              "      <td>0.000718</td>\n",
              "      <td>-0.002468</td>\n",
              "      <td>0.005259</td>\n",
              "      <td>0.002816</td>\n",
              "      <td>0.002740</td>\n",
              "      <td>-0.001064</td>\n",
              "      <td>1</td>\n",
              "      <td>NaN</td>\n",
              "      <td>NaN</td>\n",
              "      <td>NaN</td>\n",
              "      <td>NaN</td>\n",
              "    </tr>\n",
              "    <tr>\n",
              "      <th>2021-06-04 10:30:00-04:00</th>\n",
              "      <td>57.090000</td>\n",
              "      <td>57.340000</td>\n",
              "      <td>57.080002</td>\n",
              "      <td>57.228699</td>\n",
              "      <td>1512084</td>\n",
              "      <td>59.600228</td>\n",
              "      <td>56.948260</td>\n",
              "      <td>0.613096</td>\n",
              "      <td>57.220001</td>\n",
              "      <td>34.248288</td>\n",
              "      <td>57.090000</td>\n",
              "      <td>57.195000</td>\n",
              "      <td>56.900002</td>\n",
              "      <td>0.170002</td>\n",
              "      <td>0.000000</td>\n",
              "      <td>0.002332</td>\n",
              "      <td>0.002982</td>\n",
              "      <td>-0.001405</td>\n",
              "      <td>0.000526</td>\n",
              "      <td>-0.002104</td>\n",
              "      <td>0.000718</td>\n",
              "      <td>-0.002468</td>\n",
              "      <td>0.005259</td>\n",
              "      <td>0.002816</td>\n",
              "      <td>0.002740</td>\n",
              "      <td>1</td>\n",
              "      <td>NaN</td>\n",
              "      <td>NaN</td>\n",
              "      <td>NaN</td>\n",
              "      <td>NaN</td>\n",
              "    </tr>\n",
              "    <tr>\n",
              "      <th>2021-06-04 11:30:00-04:00</th>\n",
              "      <td>57.223301</td>\n",
              "      <td>57.259998</td>\n",
              "      <td>57.150002</td>\n",
              "      <td>57.180000</td>\n",
              "      <td>1023970</td>\n",
              "      <td>64.680153</td>\n",
              "      <td>57.013869</td>\n",
              "      <td>0.568215</td>\n",
              "      <td>56.900002</td>\n",
              "      <td>36.906628</td>\n",
              "      <td>57.228699</td>\n",
              "      <td>57.340000</td>\n",
              "      <td>57.080002</td>\n",
              "      <td>0.133301</td>\n",
              "      <td>-0.005398</td>\n",
              "      <td>-0.000757</td>\n",
              "      <td>0.002332</td>\n",
              "      <td>0.002982</td>\n",
              "      <td>-0.001405</td>\n",
              "      <td>0.000526</td>\n",
              "      <td>-0.002104</td>\n",
              "      <td>0.000718</td>\n",
              "      <td>-0.002468</td>\n",
              "      <td>0.005259</td>\n",
              "      <td>0.002816</td>\n",
              "      <td>-1</td>\n",
              "      <td>NaN</td>\n",
              "      <td>NaN</td>\n",
              "      <td>NaN</td>\n",
              "      <td>NaN</td>\n",
              "    </tr>\n",
              "    <tr>\n",
              "      <th>2021-06-04 12:30:00-04:00</th>\n",
              "      <td>57.180000</td>\n",
              "      <td>57.275700</td>\n",
              "      <td>57.180000</td>\n",
              "      <td>57.240002</td>\n",
              "      <td>1127395</td>\n",
              "      <td>61.655666</td>\n",
              "      <td>57.065870</td>\n",
              "      <td>0.411722</td>\n",
              "      <td>56.900002</td>\n",
              "      <td>39.299134</td>\n",
              "      <td>57.180000</td>\n",
              "      <td>57.259998</td>\n",
              "      <td>57.150002</td>\n",
              "      <td>-0.043301</td>\n",
              "      <td>0.000000</td>\n",
              "      <td>0.000874</td>\n",
              "      <td>-0.000757</td>\n",
              "      <td>0.002332</td>\n",
              "      <td>0.002982</td>\n",
              "      <td>-0.001405</td>\n",
              "      <td>0.000526</td>\n",
              "      <td>-0.002104</td>\n",
              "      <td>0.000718</td>\n",
              "      <td>-0.002468</td>\n",
              "      <td>0.005259</td>\n",
              "      <td>1</td>\n",
              "      <td>NaN</td>\n",
              "      <td>NaN</td>\n",
              "      <td>NaN</td>\n",
              "      <td>NaN</td>\n",
              "    </tr>\n",
              "  </tbody>\n",
              "</table>\n",
              "</div>"
            ],
            "text/plain": [
              "                                Open       High  ...  Cum_Return_Pred  Cum_Return\n",
              "2021-06-03 15:30:00-04:00  57.000000  57.064999  ...              NaN         NaN\n",
              "2021-06-04 09:30:00-04:00  56.919998  57.195000  ...              NaN         NaN\n",
              "2021-06-04 10:30:00-04:00  57.090000  57.340000  ...              NaN         NaN\n",
              "2021-06-04 11:30:00-04:00  57.223301  57.259998  ...              NaN         NaN\n",
              "2021-06-04 12:30:00-04:00  57.180000  57.275700  ...              NaN         NaN\n",
              "\n",
              "[5 rows x 30 columns]"
            ]
          },
          "metadata": {
            "tags": []
          },
          "execution_count": 296
        }
      ]
    },
    {
      "cell_type": "code",
      "metadata": {
        "id": "NuleewfJ38LZ"
      },
      "source": [
        "# Define lookback window\n",
        "n = 10"
      ],
      "execution_count": 221,
      "outputs": []
    },
    {
      "cell_type": "markdown",
      "metadata": {
        "id": "FZnLIavWvIeO"
      },
      "source": [
        "### Create Indicators"
      ]
    },
    {
      "cell_type": "code",
      "metadata": {
        "id": "M4V03V0G7ujJ"
      },
      "source": [
        "# Create RSI\n",
        "df['RSI'] = ta.RSI(np.array(df.Close.shift(1)), timeperiod=n)"
      ],
      "execution_count": 223,
      "outputs": []
    },
    {
      "cell_type": "code",
      "metadata": {
        "id": "0Km_NfPl9C75"
      },
      "source": [
        "# Create simple moving average and correlation\n",
        "df['SMA'] = df.Close.shift(1).rolling(window=n).mean()\n",
        "df['Corr'] = df.Close.shift(1).rolling(window=n).corr(df.SMA.shift(1))"
      ],
      "execution_count": 224,
      "outputs": []
    },
    {
      "cell_type": "code",
      "metadata": {
        "id": "yQH0fYU89N4d"
      },
      "source": [
        "# Create SAR\n",
        "df['SAR'] = ta.SAR(np.array(df.High.shift(1)),\n",
        "                   np.array(df.Low.shift(1)),\n",
        "                   acceleration=0.2, maximum=0.2)"
      ],
      "execution_count": 225,
      "outputs": []
    },
    {
      "cell_type": "code",
      "metadata": {
        "id": "l4n1ZgaA9Q4a"
      },
      "source": [
        "# Create ADX\n",
        "df['ADX'] = ta.ADX(np.array(df.High.shift(1)),\n",
        "                   np.array(df.Low.shift(1)),\n",
        "                   np.array(df.Open),\n",
        "                   timeperiod=n)"
      ],
      "execution_count": 226,
      "outputs": []
    },
    {
      "cell_type": "code",
      "metadata": {
        "id": "mnPAd21P_fQn"
      },
      "source": [
        "# Create yesterday's Close, High and Low\n",
        "df['Close_1H'] = df.Close.shift(1)\n",
        "df['High_1H'] = df.High.shift(1)\n",
        "df['Low_1H'] = df.Low.shift(1)"
      ],
      "execution_count": 227,
      "outputs": []
    },
    {
      "cell_type": "code",
      "metadata": {
        "id": "vrSP0HAd_uHm"
      },
      "source": [
        "# Create difference between today's Open and yesterday's Open\n",
        "df['Open - Open_1H'] = df.Open - df.Open.shift(1)\n",
        "# Create difference betwwen today's Open and yesterday's Close\n",
        "df['Open - Close_1H'] = df.Open - df.Close_1H"
      ],
      "execution_count": 228,
      "outputs": []
    },
    {
      "cell_type": "code",
      "metadata": {
        "id": "hVijfvrjAUDp"
      },
      "source": [
        "# Create 1 to n days returns\n",
        "df['Return'] = np.log(df.Open.shift(-1) / df.Open)\n",
        "for i in range(1, n):\n",
        "  df['Return_%iH'%i] = df['Return'].shift(i)"
      ],
      "execution_count": 229,
      "outputs": []
    },
    {
      "cell_type": "code",
      "metadata": {
        "colab": {
          "base_uri": "https://localhost:8080/",
          "height": 503
        },
        "id": "us_fl8IpAlcO",
        "outputId": "dc19c0f2-4fdb-4887-dc48-0a2ae4e6915f"
      },
      "source": [
        "df.head()"
      ],
      "execution_count": 230,
      "outputs": [
        {
          "output_type": "execute_result",
          "data": {
            "text/html": [
              "<div>\n",
              "<style scoped>\n",
              "    .dataframe tbody tr th:only-of-type {\n",
              "        vertical-align: middle;\n",
              "    }\n",
              "\n",
              "    .dataframe tbody tr th {\n",
              "        vertical-align: top;\n",
              "    }\n",
              "\n",
              "    .dataframe thead th {\n",
              "        text-align: right;\n",
              "    }\n",
              "</style>\n",
              "<table border=\"1\" class=\"dataframe\">\n",
              "  <thead>\n",
              "    <tr style=\"text-align: right;\">\n",
              "      <th></th>\n",
              "      <th>Open</th>\n",
              "      <th>High</th>\n",
              "      <th>Low</th>\n",
              "      <th>Close</th>\n",
              "      <th>Volume</th>\n",
              "      <th>RSI</th>\n",
              "      <th>SMA</th>\n",
              "      <th>Corr</th>\n",
              "      <th>SAR</th>\n",
              "      <th>ADX</th>\n",
              "      <th>Close_1H</th>\n",
              "      <th>High_1H</th>\n",
              "      <th>Low_1H</th>\n",
              "      <th>Open - Open_1H</th>\n",
              "      <th>Open - Close_1H</th>\n",
              "      <th>Return</th>\n",
              "      <th>Return_1H</th>\n",
              "      <th>Return_2H</th>\n",
              "      <th>Return_3H</th>\n",
              "      <th>Return_4H</th>\n",
              "      <th>Return_5H</th>\n",
              "      <th>Return_6H</th>\n",
              "      <th>Return_7H</th>\n",
              "      <th>Return_8H</th>\n",
              "      <th>Return_9H</th>\n",
              "    </tr>\n",
              "  </thead>\n",
              "  <tbody>\n",
              "    <tr>\n",
              "      <th>2021-06-01 09:30:00-04:00</th>\n",
              "      <td>56.750000</td>\n",
              "      <td>56.860001</td>\n",
              "      <td>56.540001</td>\n",
              "      <td>56.775002</td>\n",
              "      <td>3389335</td>\n",
              "      <td>NaN</td>\n",
              "      <td>NaN</td>\n",
              "      <td>NaN</td>\n",
              "      <td>NaN</td>\n",
              "      <td>NaN</td>\n",
              "      <td>NaN</td>\n",
              "      <td>NaN</td>\n",
              "      <td>NaN</td>\n",
              "      <td>NaN</td>\n",
              "      <td>NaN</td>\n",
              "      <td>0.000528</td>\n",
              "      <td>NaN</td>\n",
              "      <td>NaN</td>\n",
              "      <td>NaN</td>\n",
              "      <td>NaN</td>\n",
              "      <td>NaN</td>\n",
              "      <td>NaN</td>\n",
              "      <td>NaN</td>\n",
              "      <td>NaN</td>\n",
              "      <td>NaN</td>\n",
              "    </tr>\n",
              "    <tr>\n",
              "      <th>2021-06-01 10:30:00-04:00</th>\n",
              "      <td>56.779999</td>\n",
              "      <td>56.790001</td>\n",
              "      <td>56.509998</td>\n",
              "      <td>56.534100</td>\n",
              "      <td>2117427</td>\n",
              "      <td>NaN</td>\n",
              "      <td>NaN</td>\n",
              "      <td>NaN</td>\n",
              "      <td>NaN</td>\n",
              "      <td>NaN</td>\n",
              "      <td>56.775002</td>\n",
              "      <td>56.860001</td>\n",
              "      <td>56.540001</td>\n",
              "      <td>0.029999</td>\n",
              "      <td>0.004997</td>\n",
              "      <td>-0.004413</td>\n",
              "      <td>0.000528</td>\n",
              "      <td>NaN</td>\n",
              "      <td>NaN</td>\n",
              "      <td>NaN</td>\n",
              "      <td>NaN</td>\n",
              "      <td>NaN</td>\n",
              "      <td>NaN</td>\n",
              "      <td>NaN</td>\n",
              "      <td>NaN</td>\n",
              "    </tr>\n",
              "    <tr>\n",
              "      <th>2021-06-01 11:30:00-04:00</th>\n",
              "      <td>56.529999</td>\n",
              "      <td>56.535000</td>\n",
              "      <td>56.380001</td>\n",
              "      <td>56.404999</td>\n",
              "      <td>1641920</td>\n",
              "      <td>NaN</td>\n",
              "      <td>NaN</td>\n",
              "      <td>NaN</td>\n",
              "      <td>56.860001</td>\n",
              "      <td>NaN</td>\n",
              "      <td>56.534100</td>\n",
              "      <td>56.790001</td>\n",
              "      <td>56.509998</td>\n",
              "      <td>-0.250000</td>\n",
              "      <td>-0.004101</td>\n",
              "      <td>-0.002214</td>\n",
              "      <td>-0.004413</td>\n",
              "      <td>0.000528</td>\n",
              "      <td>NaN</td>\n",
              "      <td>NaN</td>\n",
              "      <td>NaN</td>\n",
              "      <td>NaN</td>\n",
              "      <td>NaN</td>\n",
              "      <td>NaN</td>\n",
              "      <td>NaN</td>\n",
              "    </tr>\n",
              "    <tr>\n",
              "      <th>2021-06-01 12:30:00-04:00</th>\n",
              "      <td>56.404999</td>\n",
              "      <td>56.430000</td>\n",
              "      <td>56.310001</td>\n",
              "      <td>56.330002</td>\n",
              "      <td>1515329</td>\n",
              "      <td>NaN</td>\n",
              "      <td>NaN</td>\n",
              "      <td>NaN</td>\n",
              "      <td>56.790001</td>\n",
              "      <td>NaN</td>\n",
              "      <td>56.404999</td>\n",
              "      <td>56.535000</td>\n",
              "      <td>56.380001</td>\n",
              "      <td>-0.125000</td>\n",
              "      <td>0.000000</td>\n",
              "      <td>-0.001242</td>\n",
              "      <td>-0.002214</td>\n",
              "      <td>-0.004413</td>\n",
              "      <td>0.000528</td>\n",
              "      <td>NaN</td>\n",
              "      <td>NaN</td>\n",
              "      <td>NaN</td>\n",
              "      <td>NaN</td>\n",
              "      <td>NaN</td>\n",
              "      <td>NaN</td>\n",
              "    </tr>\n",
              "    <tr>\n",
              "      <th>2021-06-01 13:30:00-04:00</th>\n",
              "      <td>56.334999</td>\n",
              "      <td>56.369900</td>\n",
              "      <td>56.270000</td>\n",
              "      <td>56.355000</td>\n",
              "      <td>1381454</td>\n",
              "      <td>NaN</td>\n",
              "      <td>NaN</td>\n",
              "      <td>NaN</td>\n",
              "      <td>56.790001</td>\n",
              "      <td>NaN</td>\n",
              "      <td>56.330002</td>\n",
              "      <td>56.430000</td>\n",
              "      <td>56.310001</td>\n",
              "      <td>-0.070000</td>\n",
              "      <td>0.004997</td>\n",
              "      <td>0.000444</td>\n",
              "      <td>-0.001242</td>\n",
              "      <td>-0.002214</td>\n",
              "      <td>-0.004413</td>\n",
              "      <td>0.000528</td>\n",
              "      <td>NaN</td>\n",
              "      <td>NaN</td>\n",
              "      <td>NaN</td>\n",
              "      <td>NaN</td>\n",
              "      <td>NaN</td>\n",
              "    </tr>\n",
              "  </tbody>\n",
              "</table>\n",
              "</div>"
            ],
            "text/plain": [
              "                                Open       High  ...  Return_8H  Return_9H\n",
              "2021-06-01 09:30:00-04:00  56.750000  56.860001  ...        NaN        NaN\n",
              "2021-06-01 10:30:00-04:00  56.779999  56.790001  ...        NaN        NaN\n",
              "2021-06-01 11:30:00-04:00  56.529999  56.535000  ...        NaN        NaN\n",
              "2021-06-01 12:30:00-04:00  56.404999  56.430000  ...        NaN        NaN\n",
              "2021-06-01 13:30:00-04:00  56.334999  56.369900  ...        NaN        NaN\n",
              "\n",
              "[5 rows x 25 columns]"
            ]
          },
          "metadata": {
            "tags": []
          },
          "execution_count": 230
        }
      ]
    },
    {
      "cell_type": "markdown",
      "metadata": {
        "id": "nLK9sOiewtQZ"
      },
      "source": [
        "### Preprocess Data and Create Signals"
      ]
    },
    {
      "cell_type": "code",
      "metadata": {
        "id": "iJoeBuGsAuxq"
      },
      "source": [
        "# Drop nan values\n",
        "df.dropna(inplace=True)"
      ],
      "execution_count": 231,
      "outputs": []
    },
    {
      "cell_type": "code",
      "metadata": {
        "id": "Dagmwj3hBtsA"
      },
      "source": [
        "# Define split for training and testing\n",
        "split = int(0.8 * df.shape[0])"
      ],
      "execution_count": 232,
      "outputs": []
    },
    {
      "cell_type": "code",
      "metadata": {
        "id": "Gbg2Gj1gBbUA"
      },
      "source": [
        "# Create signals\n",
        "df['Signal'] = 0\n",
        "df.loc[df.Return > df.Return[:split].quantile(q=0.66), 'Signal'] = 1\n",
        "df.loc[df.Return < df.Return[:split].quantile(q=0.33), 'Signal'] = -1"
      ],
      "execution_count": 233,
      "outputs": []
    },
    {
      "cell_type": "code",
      "metadata": {
        "id": "tlhKa2mdCG0V"
      },
      "source": [
        "# Define features and targets\n",
        "x_data = df.drop(['Close','High','Low','Volume','Return','Signal'], axis=1)\n",
        "y_data = df.Signal"
      ],
      "execution_count": 234,
      "outputs": []
    },
    {
      "cell_type": "code",
      "metadata": {
        "colab": {
          "base_uri": "https://localhost:8080/",
          "height": 503
        },
        "id": "V2V25MU6DIO3",
        "outputId": "32dc7521-6059-4bf6-fa00-1887030cb236"
      },
      "source": [
        "x_data.head()"
      ],
      "execution_count": 235,
      "outputs": [
        {
          "output_type": "execute_result",
          "data": {
            "text/html": [
              "<div>\n",
              "<style scoped>\n",
              "    .dataframe tbody tr th:only-of-type {\n",
              "        vertical-align: middle;\n",
              "    }\n",
              "\n",
              "    .dataframe tbody tr th {\n",
              "        vertical-align: top;\n",
              "    }\n",
              "\n",
              "    .dataframe thead th {\n",
              "        text-align: right;\n",
              "    }\n",
              "</style>\n",
              "<table border=\"1\" class=\"dataframe\">\n",
              "  <thead>\n",
              "    <tr style=\"text-align: right;\">\n",
              "      <th></th>\n",
              "      <th>Open</th>\n",
              "      <th>RSI</th>\n",
              "      <th>SMA</th>\n",
              "      <th>Corr</th>\n",
              "      <th>SAR</th>\n",
              "      <th>ADX</th>\n",
              "      <th>Close_1H</th>\n",
              "      <th>High_1H</th>\n",
              "      <th>Low_1H</th>\n",
              "      <th>Open - Open_1H</th>\n",
              "      <th>Open - Close_1H</th>\n",
              "      <th>Return_1H</th>\n",
              "      <th>Return_2H</th>\n",
              "      <th>Return_3H</th>\n",
              "      <th>Return_4H</th>\n",
              "      <th>Return_5H</th>\n",
              "      <th>Return_6H</th>\n",
              "      <th>Return_7H</th>\n",
              "      <th>Return_8H</th>\n",
              "      <th>Return_9H</th>\n",
              "    </tr>\n",
              "  </thead>\n",
              "  <tbody>\n",
              "    <tr>\n",
              "      <th>2021-06-03 15:30:00-04:00</th>\n",
              "      <td>57.000000</td>\n",
              "      <td>56.027166</td>\n",
              "      <td>56.885760</td>\n",
              "      <td>0.678514</td>\n",
              "      <td>56.939425</td>\n",
              "      <td>31.058790</td>\n",
              "      <td>57.000000</td>\n",
              "      <td>57.035000</td>\n",
              "      <td>56.959999</td>\n",
              "      <td>0.029999</td>\n",
              "      <td>0.000000</td>\n",
              "      <td>0.000526</td>\n",
              "      <td>-0.002104</td>\n",
              "      <td>0.000718</td>\n",
              "      <td>-0.002468</td>\n",
              "      <td>0.005259</td>\n",
              "      <td>0.002816</td>\n",
              "      <td>0.002740</td>\n",
              "      <td>-0.001064</td>\n",
              "      <td>-0.003085</td>\n",
              "    </tr>\n",
              "    <tr>\n",
              "      <th>2021-06-04 09:30:00-04:00</th>\n",
              "      <td>56.919998</td>\n",
              "      <td>54.978268</td>\n",
              "      <td>56.902760</td>\n",
              "      <td>0.652011</td>\n",
              "      <td>56.959999</td>\n",
              "      <td>32.219837</td>\n",
              "      <td>56.980000</td>\n",
              "      <td>57.064999</td>\n",
              "      <td>56.970001</td>\n",
              "      <td>-0.080002</td>\n",
              "      <td>-0.060001</td>\n",
              "      <td>-0.001405</td>\n",
              "      <td>0.000526</td>\n",
              "      <td>-0.002104</td>\n",
              "      <td>0.000718</td>\n",
              "      <td>-0.002468</td>\n",
              "      <td>0.005259</td>\n",
              "      <td>0.002816</td>\n",
              "      <td>0.002740</td>\n",
              "      <td>-0.001064</td>\n",
              "    </tr>\n",
              "    <tr>\n",
              "      <th>2021-06-04 10:30:00-04:00</th>\n",
              "      <td>57.090000</td>\n",
              "      <td>59.600228</td>\n",
              "      <td>56.948260</td>\n",
              "      <td>0.613096</td>\n",
              "      <td>57.220001</td>\n",
              "      <td>34.248288</td>\n",
              "      <td>57.090000</td>\n",
              "      <td>57.195000</td>\n",
              "      <td>56.900002</td>\n",
              "      <td>0.170002</td>\n",
              "      <td>0.000000</td>\n",
              "      <td>0.002982</td>\n",
              "      <td>-0.001405</td>\n",
              "      <td>0.000526</td>\n",
              "      <td>-0.002104</td>\n",
              "      <td>0.000718</td>\n",
              "      <td>-0.002468</td>\n",
              "      <td>0.005259</td>\n",
              "      <td>0.002816</td>\n",
              "      <td>0.002740</td>\n",
              "    </tr>\n",
              "    <tr>\n",
              "      <th>2021-06-04 11:30:00-04:00</th>\n",
              "      <td>57.223301</td>\n",
              "      <td>64.680153</td>\n",
              "      <td>57.013869</td>\n",
              "      <td>0.568215</td>\n",
              "      <td>56.900002</td>\n",
              "      <td>36.906628</td>\n",
              "      <td>57.228699</td>\n",
              "      <td>57.340000</td>\n",
              "      <td>57.080002</td>\n",
              "      <td>0.133301</td>\n",
              "      <td>-0.005398</td>\n",
              "      <td>0.002332</td>\n",
              "      <td>0.002982</td>\n",
              "      <td>-0.001405</td>\n",
              "      <td>0.000526</td>\n",
              "      <td>-0.002104</td>\n",
              "      <td>0.000718</td>\n",
              "      <td>-0.002468</td>\n",
              "      <td>0.005259</td>\n",
              "      <td>0.002816</td>\n",
              "    </tr>\n",
              "    <tr>\n",
              "      <th>2021-06-04 12:30:00-04:00</th>\n",
              "      <td>57.180000</td>\n",
              "      <td>61.655666</td>\n",
              "      <td>57.065870</td>\n",
              "      <td>0.411722</td>\n",
              "      <td>56.900002</td>\n",
              "      <td>39.299134</td>\n",
              "      <td>57.180000</td>\n",
              "      <td>57.259998</td>\n",
              "      <td>57.150002</td>\n",
              "      <td>-0.043301</td>\n",
              "      <td>0.000000</td>\n",
              "      <td>-0.000757</td>\n",
              "      <td>0.002332</td>\n",
              "      <td>0.002982</td>\n",
              "      <td>-0.001405</td>\n",
              "      <td>0.000526</td>\n",
              "      <td>-0.002104</td>\n",
              "      <td>0.000718</td>\n",
              "      <td>-0.002468</td>\n",
              "      <td>0.005259</td>\n",
              "    </tr>\n",
              "  </tbody>\n",
              "</table>\n",
              "</div>"
            ],
            "text/plain": [
              "                                Open        RSI  ...  Return_8H  Return_9H\n",
              "2021-06-03 15:30:00-04:00  57.000000  56.027166  ...  -0.001064  -0.003085\n",
              "2021-06-04 09:30:00-04:00  56.919998  54.978268  ...   0.002740  -0.001064\n",
              "2021-06-04 10:30:00-04:00  57.090000  59.600228  ...   0.002816   0.002740\n",
              "2021-06-04 11:30:00-04:00  57.223301  64.680153  ...   0.005259   0.002816\n",
              "2021-06-04 12:30:00-04:00  57.180000  61.655666  ...  -0.002468   0.005259\n",
              "\n",
              "[5 rows x 20 columns]"
            ]
          },
          "metadata": {
            "tags": []
          },
          "execution_count": 235
        }
      ]
    },
    {
      "cell_type": "code",
      "metadata": {
        "colab": {
          "base_uri": "https://localhost:8080/"
        },
        "id": "5miEAd8px98o",
        "outputId": "d8c5344c-2ff0-4fb0-a3aa-e86edfe06a1b"
      },
      "source": [
        "y_data.head()"
      ],
      "execution_count": 236,
      "outputs": [
        {
          "output_type": "execute_result",
          "data": {
            "text/plain": [
              "2021-06-03 15:30:00-04:00   -1\n",
              "2021-06-04 09:30:00-04:00    1\n",
              "2021-06-04 10:30:00-04:00    1\n",
              "2021-06-04 11:30:00-04:00   -1\n",
              "2021-06-04 12:30:00-04:00    1\n",
              "Name: Signal, dtype: int64"
            ]
          },
          "metadata": {
            "tags": []
          },
          "execution_count": 236
        }
      ]
    },
    {
      "cell_type": "code",
      "metadata": {
        "colab": {
          "base_uri": "https://localhost:8080/",
          "height": 351
        },
        "id": "geDnqaXpDN16",
        "outputId": "4bc4f570-a600-458f-dbff-2989449394a1"
      },
      "source": [
        "# Scatter plot of SMA and RSI\n",
        "%matplotlib inline\n",
        "plt.figure(figsize=(5,5))\n",
        "plt.scatter(x_data[['SMA','RSI']].values[:,0],\n",
        "            x_data[['SMA','RSI']].values[:,1],\n",
        "            c=y_data.values)\n",
        "plt.xlabel('SMA')\n",
        "plt.ylabel('RSI')"
      ],
      "execution_count": 238,
      "outputs": [
        {
          "output_type": "execute_result",
          "data": {
            "text/plain": [
              "Text(0, 0.5, 'RSI')"
            ]
          },
          "metadata": {
            "tags": []
          },
          "execution_count": 238
        },
        {
          "output_type": "display_data",
          "data": {
            "image/png": "[encoded data removed]",
            "text/plain": [
              "<Figure size 360x360 with 1 Axes>"
            ]
          },
          "metadata": {
            "tags": [],
            "needs_background": "light"
          }
        }
      ]
    },
    {
      "cell_type": "code",
      "metadata": {
        "colab": {
          "base_uri": "https://localhost:8080/",
          "height": 351
        },
        "id": "YAEv5_Z1Ebos",
        "outputId": "50e352e9-5607-4aa0-b819-ebf0ffefd613"
      },
      "source": [
        "# Scatter plot of Corr and SAR\n",
        "%matplotlib inline\n",
        "plt.figure(figsize=(5,5))\n",
        "plt.scatter(x_data[['Corr','SAR']].values[:,0],\n",
        "            x_data[['Corr','SAR']].values[:,1],\n",
        "            c=y_data.values)\n",
        "plt.xlabel('Corr')\n",
        "plt.ylabel('SAR')"
      ],
      "execution_count": 239,
      "outputs": [
        {
          "output_type": "execute_result",
          "data": {
            "text/plain": [
              "Text(0, 0.5, 'SAR')"
            ]
          },
          "metadata": {
            "tags": []
          },
          "execution_count": 239
        },
        {
          "output_type": "display_data",
          "data": {
            "image/png": "[encoded data removed]",
            "text/plain": [
              "<Figure size 360x360 with 1 Axes>"
            ]
          },
          "metadata": {
            "tags": [],
            "needs_background": "light"
          }
        }
      ]
    },
    {
      "cell_type": "markdown",
      "metadata": {
        "id": "NwIMVC9n0oxQ"
      },
      "source": [
        "### Model Training"
      ]
    },
    {
      "cell_type": "code",
      "metadata": {
        "id": "Be4BGmc3Gi3A"
      },
      "source": [
        "# Load libraries\n",
        "from sklearn.preprocessing import StandardScaler\n",
        "from sklearn.model_selection import RandomizedSearchCV\n",
        "from sklearn.model_selection import TimeSeriesSplit\n",
        "from sklearn.pipeline import Pipeline\n",
        "from sklearn.svm import SVC\n",
        "from sklearn.metrics import plot_confusion_matrix\n",
        "from sklearn.metrics import classification_report"
      ],
      "execution_count": 241,
      "outputs": []
    },
    {
      "cell_type": "code",
      "metadata": {
        "id": "ihT6J2F3EwN5"
      },
      "source": [
        "# Create pipeline\n",
        "pipeline = Pipeline([('scaler', StandardScaler()), ('svc', SVC())])"
      ],
      "execution_count": 242,
      "outputs": []
    },
    {
      "cell_type": "code",
      "metadata": {
        "id": "853Nqk_EGzWc"
      },
      "source": [
        "# Define split for time series\n",
        "tscv = TimeSeriesSplit(n_splits=5)"
      ],
      "execution_count": 243,
      "outputs": []
    },
    {
      "cell_type": "code",
      "metadata": {
        "id": "EF6LW9jm1MkQ"
      },
      "source": [
        "# Hyperparameters for randomized search\n",
        "C_rs = np.linspace(10, 10000, num=40)\n",
        "gamma_rs = np.linspace(0.01, 1, num=30)\n",
        "degree = np.linspace(2, 9, num=8).astype(int)\n",
        "\n",
        "parameters_rs = {'svc__kernel': ['rbf', 'poly'],\n",
        "                 'svc__degree': degree,\n",
        "                 'svc__C': C_rs,\n",
        "                 'svc__gamma': gamma_rs}"
      ],
      "execution_count": 244,
      "outputs": []
    },
    {
      "cell_type": "code",
      "metadata": {
        "id": "iB1tPVcm2CDm"
      },
      "source": [
        "# Define randomized search model\n",
        "rsmodel = RandomizedSearchCV(pipeline, param_distributions=parameters_rs, cv=tscv, random_state=42)"
      ],
      "execution_count": 273,
      "outputs": []
    },
    {
      "cell_type": "code",
      "metadata": {
        "colab": {
          "base_uri": "https://localhost:8080/"
        },
        "id": "M3uluoJ32qL4",
        "outputId": "43e89166-7357-4c92-b06e-a1772b38ca63"
      },
      "source": [
        "# Fit model on training set\n",
        "rsmodel.fit(x_data.iloc[:split], y_data.iloc[:split])"
      ],
      "execution_count": 275,
      "outputs": [
        {
          "output_type": "execute_result",
          "data": {
            "text/plain": [
              "RandomizedSearchCV(cv=TimeSeriesSplit(max_train_size=None, n_splits=5),\n",
              "                   error_score=nan,\n",
              "                   estimator=Pipeline(memory=None,\n",
              "                                      steps=[('scaler',\n",
              "                                              StandardScaler(copy=True,\n",
              "                                                             with_mean=True,\n",
              "                                                             with_std=True)),\n",
              "                                             ('svc',\n",
              "                                              SVC(C=1.0, break_ties=False,\n",
              "                                                  cache_size=200,\n",
              "                                                  class_weight=None, coef0=0.0,\n",
              "                                                  decision_function_shape='ovr',\n",
              "                                                  degree=3, gamma='scale',\n",
              "                                                  kernel='rbf', max_iter=-1,\n",
              "                                                  proba...\n",
              "       0.18068966, 0.21482759, 0.24896552, 0.28310345, 0.31724138,\n",
              "       0.35137931, 0.38551724, 0.41965517, 0.4537931 , 0.48793103,\n",
              "       0.52206897, 0.5562069 , 0.59034483, 0.62448276, 0.65862069,\n",
              "       0.69275862, 0.72689655, 0.76103448, 0.79517241, 0.82931034,\n",
              "       0.86344828, 0.89758621, 0.93172414, 0.96586207, 1.        ]),\n",
              "                                        'svc__kernel': ['rbf', 'poly']},\n",
              "                   pre_dispatch='2*n_jobs', random_state=42, refit=True,\n",
              "                   return_train_score=False, scoring=None, verbose=0)"
            ]
          },
          "metadata": {
            "tags": []
          },
          "execution_count": 275
        }
      ]
    },
    {
      "cell_type": "code",
      "metadata": {
        "colab": {
          "base_uri": "https://localhost:8080/"
        },
        "id": "Hm2hahN32vp0",
        "outputId": "c810433c-e81b-41af-ed6f-be816b891704"
      },
      "source": [
        "# Find best parameters\n",
        "rsmodel.best_params_"
      ],
      "execution_count": 277,
      "outputs": [
        {
          "output_type": "execute_result",
          "data": {
            "text/plain": [
              "{'svc__C': 3339.9999999999995,\n",
              " 'svc__degree': 2,\n",
              " 'svc__gamma': 0.41965517241379313,\n",
              " 'svc__kernel': 'poly'}"
            ]
          },
          "metadata": {
            "tags": []
          },
          "execution_count": 277
        }
      ]
    },
    {
      "cell_type": "markdown",
      "metadata": {
        "id": "Bo1XWUiH1mvf"
      },
      "source": [
        "### Create Prediction"
      ]
    },
    {
      "cell_type": "code",
      "metadata": {
        "id": "HGOAklfp21Nm"
      },
      "source": [
        "# Predict from training set\n",
        "y_pred = rsmodel.predict(x_data.iloc[split:])"
      ],
      "execution_count": 279,
      "outputs": []
    },
    {
      "cell_type": "code",
      "metadata": {
        "id": "gLSb76ppItN2"
      },
      "source": [
        "# Add predicted signal to dataframe\n",
        "df['Signal_Pred'] = 0\n",
        "df.iloc[:split, df.columns.get_loc('Signal_Pred')] = pd.Series(rsmodel.predict(x_data.iloc[:split]).tolist())\n",
        "df.iloc[split:, df.columns.get_loc('Signal_Pred')] = y_pred"
      ],
      "execution_count": 280,
      "outputs": []
    },
    {
      "cell_type": "markdown",
      "metadata": {
        "id": "IckQqFoy37Ox"
      },
      "source": [
        "### Evaluate Prediction Performance"
      ]
    },
    {
      "cell_type": "code",
      "metadata": {
        "colab": {
          "base_uri": "https://localhost:8080/"
        },
        "id": "izyT0NRXJl7A",
        "outputId": "e2495e6b-4ddb-4c27-c16d-25c40de14b86"
      },
      "source": [
        "# Show result\n",
        "print(classification_report(df['Signal'].iloc[split:], y_pred))"
      ],
      "execution_count": 281,
      "outputs": [
        {
          "output_type": "stream",
          "text": [
            "              precision    recall  f1-score   support\n",
            "\n",
            "          -1       0.52      0.62      0.57        21\n",
            "           0       0.00      0.00      0.00        15\n",
            "           1       0.33      0.40      0.36        20\n",
            "\n",
            "    accuracy                           0.38        56\n",
            "   macro avg       0.28      0.34      0.31        56\n",
            "weighted avg       0.31      0.38      0.34        56\n",
            "\n"
          ],
          "name": "stdout"
        }
      ]
    },
    {
      "cell_type": "code",
      "metadata": {
        "colab": {
          "base_uri": "https://localhost:8080/",
          "height": 296
        },
        "id": "cCNKDb6pJDlP",
        "outputId": "6d862b93-7b85-43a3-93de-19d7bc3cca88"
      },
      "source": [
        "# Plot confusion matrix\n",
        "plot_confusion_matrix(rsmodel, x_data.iloc[split:],\n",
        "                      df['Signal'].iloc[split:],\n",
        "                      normalize='true')"
      ],
      "execution_count": 282,
      "outputs": [
        {
          "output_type": "execute_result",
          "data": {
            "text/plain": [
              "<sklearn.metrics._plot.confusion_matrix.ConfusionMatrixDisplay at 0x7f046de3dbd0>"
            ]
          },
          "metadata": {
            "tags": []
          },
          "execution_count": 282
        },
        {
          "output_type": "display_data",
          "data": {
            "image/png": "[encoded data removed]",
            "text/plain": [
              "<Figure size 432x288 with 2 Axes>"
            ]
          },
          "metadata": {
            "tags": [],
            "needs_background": "light"
          }
        }
      ]
    },
    {
      "cell_type": "code",
      "metadata": {
        "id": "kwVZ5z_D1bMS"
      },
      "source": [
        "# Predict returns\n",
        "df['Return_Pred'] = df.Return * df.Signal_Pred"
      ],
      "execution_count": 283,
      "outputs": []
    },
    {
      "cell_type": "code",
      "metadata": {
        "id": "8lC9KL7f5wHD"
      },
      "source": [
        "# Calculate predicted cumulative returns\n",
        "df['Cum_Return_Pred'] = 0.\n",
        "df['Cum_Return_Pred'] = np.cumsum(df.Return_Pred.iloc[split:])"
      ],
      "execution_count": 284,
      "outputs": []
    },
    {
      "cell_type": "code",
      "metadata": {
        "id": "bDsW4Ynl6Buy"
      },
      "source": [
        "# Calcualte market cumulative returns\n",
        "df['Cum_Return'] = 0.\n",
        "df['Cum_Return'] = np.cumsum(df.Return.iloc[split:])"
      ],
      "execution_count": 285,
      "outputs": []
    },
    {
      "cell_type": "code",
      "metadata": {
        "colab": {
          "base_uri": "https://localhost:8080/"
        },
        "id": "THkCc8PT6I8D",
        "outputId": "0fc31cb6-5995-4eed-bce8-3cbf70e00675"
      },
      "source": [
        "# Calculate Sharpe ratio\n",
        "std = np.std(df.Cum_Return_Pred)\n",
        "sharpe = (df.Cum_Return_Pred.iloc[-1]-df.Cum_Return.iloc[-1])/std\n",
        "print('Sharpe Ratio:', sharpe)"
      ],
      "execution_count": 286,
      "outputs": [
        {
          "output_type": "stream",
          "text": [
            "Sharpe Ratio: 6.382963962835444\n"
          ],
          "name": "stdout"
        }
      ]
    },
    {
      "cell_type": "code",
      "metadata": {
        "colab": {
          "base_uri": "https://localhost:8080/",
          "height": 313
        },
        "id": "cWuwv5HW6Yjd",
        "outputId": "ad948e19-e962-482f-b963-67fdcbd97b74"
      },
      "source": [
        "# Plot performance of trading strategy\n",
        "plt.plot(df.Cum_Return_Pred, color='r', label='Strategy Returns')\n",
        "plt.plot(df.Cum_Return, color='g', label='Market Returns')\n",
        "plt.figtext(0.14, 0.14, s='Sharpe ratio: %.2f' % sharpe)\n",
        "plt.legend(loc='best')\n",
        "plt.xticks(rotation=90)\n",
        "plt.show()"
      ],
      "execution_count": 301,
      "outputs": [
        {
          "output_type": "display_data",
          "data": {
            "image/png": "[encoded data removed]",
            "text/plain": [
              "<Figure size 432x288 with 1 Axes>"
            ]
          },
          "metadata": {
            "tags": [],
            "needs_background": "light"
          }
        }
      ]
    }
  ]
}